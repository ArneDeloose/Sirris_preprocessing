{
 "cells": [
  {
   "cell_type": "code",
   "execution_count": null,
   "metadata": {},
   "outputs": [],
   "source": [
    "#change this to the correct path\n",
    "data_path = 'C:/Users/adloose/Downloads/WindTurbines_Sirris'"
   ]
  },
  {
   "cell_type": "code",
   "execution_count": null,
   "metadata": {},
   "outputs": [],
   "source": [
    "#import packages\n",
    "import os\n",
    "import math\n",
    "import numpy as np\n",
    "import pandas as pd\n",
    "from sklearn.linear_model import LinearRegression\n",
    "from matplotlib import pyplot as plt"
   ]
  },
  {
   "cell_type": "code",
   "execution_count": null,
   "metadata": {},
   "outputs": [],
   "source": [
    "#split data into weather and tech \n",
    "def AD_split(data_WT):\n",
    "    data_WT_tech=np.zeros((data_WT.shape[0], 96),)\n",
    "    data_WT_tech[:, 0:64]=data_WT[:, 0:64]\n",
    "    data_WT_tech[:, 64:]=data_WT[:, 80:112]\n",
    "    data_WT_weather=np.zeros((data_WT.shape[0], 28),)\n",
    "    data_WT_weather[:, 0:16]=data_WT[:, 64:80] #Ws1, Ws2, Ws and Ot\n",
    "    data_WT_weather[:, 16:]=data_WT[:, 112:] #Wa and Va (angles)\n",
    "    return(data_WT_tech, data_WT_weather)"
   ]
  },
  {
   "cell_type": "code",
   "execution_count": null,
   "metadata": {},
   "outputs": [],
   "source": [
    "#read in data\n",
    "data_WT1 = pd.read_csv(data_path+'/WT1_full.csv', sep=';')\n",
    "data_WT1 = data_WT1.values #numpy array\n",
    "data_WT2 = pd.read_csv(data_path+'/WT2_full.csv', sep=';')\n",
    "data_WT2 = data_WT2.values #numpy array\n",
    "data_WT3 = pd.read_csv(data_path+'/WT3_full.csv', sep=';')\n",
    "data_WT3 = data_WT3.values #numpy array\n",
    "data_WT4 = pd.read_csv(data_path+'/WT4_full.csv', sep=';')\n",
    "data_WT4 = data_WT4.values #numpy array\n",
    "\n",
    "#list variables\n",
    "var_list = pd.read_csv(data_path+'/var_list.csv', sep=';', header=None)\n",
    "var_list=list(var_list.values)\n",
    "for i in range(len(var_list)): #list creates array at each position\n",
    "    var_list[i]=var_list[i][0]\n",
    "    \n",
    "#split list\n",
    "var_list_tech=var_list[0:64]+var_list[80:112]\n",
    "var_list_weather=var_list[64:80]+var_list[112:]"
   ]
  },
  {
   "cell_type": "code",
   "execution_count": null,
   "metadata": {},
   "outputs": [],
   "source": [
    "#split data in weather and technical variables\n",
    "(data_WT1_tech, data_WT1_weather)=AD_split(data_WT1)\n",
    "(data_WT2_tech, data_WT2_weather)=AD_split(data_WT2)\n",
    "(data_WT3_tech, data_WT3_weather)=AD_split(data_WT3)\n",
    "(data_WT4_tech, data_WT4_weather)=AD_split(data_WT4)"
   ]
  },
  {
   "cell_type": "code",
   "execution_count": null,
   "metadata": {},
   "outputs": [],
   "source": [
    "#use a linear regression to predict each of the other variables\n",
    "#predict 96 tech variables based on 28 weather variables\n",
    "Y=np.zeros((data_WT1_tech.shape[0],),) #output\n",
    "r_sq=np.zeros((data_WT1_tech.shape[1],),) #save the r squares\n",
    "intercepts= np.zeros((data_WT1_tech.shape[1],),) #intercepts\n",
    "coefficients=np.zeros((data_WT1_tech.shape[1], data_WT1_weather.shape[1]),) #coefficients\n",
    "data_WT1_pred=np.zeros((data_WT1_tech.shape[0], data_WT1_tech.shape[1]),) #predictions 1\n",
    "data_WT2_pred=np.zeros((data_WT1_tech.shape[0], data_WT1_tech.shape[1]),) #predictions 2\n",
    "data_WT3_pred=np.zeros((data_WT1_tech.shape[0], data_WT1_tech.shape[1]),) #predictions 3\n",
    "data_WT4_pred=np.zeros((data_WT1_tech.shape[0], data_WT1_tech.shape[1]),) #predictions 4\n",
    "\n",
    "model_LR=LinearRegression()\n",
    "for i in range(data_WT1_tech.shape[1]):\n",
    "    Y=data_WT1_tech[:, i]\n",
    "    model_LR.fit(data_WT1_weather, Y)\n",
    "    r_sq[i]=model_LR.score(data_WT1_weather, Y)\n",
    "    intercepts[i]=model_LR.intercept_\n",
    "    coefficients[i, :]=model_LR.coef_\n",
    "    data_WT1_pred[:, i]=model_LR.predict(data_WT1_weather)\n",
    "\n",
    "#other turbines\n",
    "for i in range(data_WT1_tech.shape[1]):\n",
    "    Y=data_WT2_tech[:, i]\n",
    "    model_LR.fit(data_WT2_weather, Y)\n",
    "    data_WT2_pred[:, i]=model_LR.predict(data_WT2_weather)\n",
    "    \n",
    "    Y=data_WT3_tech[:, i]\n",
    "    model_LR.fit(data_WT3_weather, Y)\n",
    "    data_WT3_pred[:, i]=model_LR.predict(data_WT3_weather)\n",
    "    \n",
    "    Y=data_WT4_tech[:, i]\n",
    "    model_LR.fit(data_WT4_weather, Y)\n",
    "    data_WT4_pred[:, i]=model_LR.predict(data_WT4_weather)"
   ]
  },
  {
   "cell_type": "code",
   "execution_count": null,
   "metadata": {},
   "outputs": [],
   "source": [
    "r_sq.mean()"
   ]
  },
  {
   "cell_type": "code",
   "execution_count": null,
   "metadata": {},
   "outputs": [],
   "source": [
    "#uncomment to see the whole list of r2 values\n",
    "\n",
    "#for i in range(data_WT1_tech.shape[1]):\n",
    "    #print(var_list_tech[i] + ': ' +str(r_sq[i]))"
   ]
  },
  {
   "cell_type": "code",
   "execution_count": null,
   "metadata": {},
   "outputs": [],
   "source": [
    "#calculate adjusted data\n",
    "data_WT1_tech2=data_WT1_tech-data_WT1_pred #substract predicted data\n",
    "data_WT2_tech2=data_WT2_tech-data_WT2_pred\n",
    "data_WT3_tech2=data_WT3_tech-data_WT3_pred\n",
    "data_WT4_tech2=data_WT4_tech-data_WT4_pred"
   ]
  },
  {
   "cell_type": "code",
   "execution_count": null,
   "metadata": {},
   "outputs": [],
   "source": [
    "#plot some variables to check if it's working properly\n",
    "x=range(52560) #one year\n",
    "a=0\n",
    "\n",
    "plt.plot(x, data_WT1_tech[0:52560, a], 'o', label='Original')\n",
    "plt.plot(x, data_WT1_tech2[0:52560, a], '-', label='Weather corrected')\n",
    "plt.legend()\n",
    "plt.title('Rt')\n",
    "plt.show()\n",
    "plt.close()\n",
    "\n",
    "a=32\n",
    "\n",
    "plt.plot(x, data_WT1_tech[0:52560, a], 'o', label='Original')\n",
    "plt.plot(x, data_WT1_tech2[0:52560, a], '-', label='Weather corrected')\n",
    "plt.legend()\n",
    "plt.title('Dbt1')\n",
    "plt.show()\n",
    "plt.close()\n"
   ]
  },
  {
   "cell_type": "code",
   "execution_count": null,
   "metadata": {},
   "outputs": [],
   "source": []
  }
 ],
 "metadata": {
  "kernelspec": {
   "display_name": "Python 3",
   "language": "python",
   "name": "python3"
  },
  "language_info": {
   "codemirror_mode": {
    "name": "ipython",
    "version": 3
   },
   "file_extension": ".py",
   "mimetype": "text/x-python",
   "name": "python",
   "nbconvert_exporter": "python",
   "pygments_lexer": "ipython3",
   "version": "3.7.4"
  }
 },
 "nbformat": 4,
 "nbformat_minor": 2
}
